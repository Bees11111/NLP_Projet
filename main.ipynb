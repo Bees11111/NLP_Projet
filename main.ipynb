{
 "cells": [
  {
   "cell_type": "code",
   "execution_count": null,
   "metadata": {},
   "outputs": [],
   "source": [
    "import os\n",
    "import glob\n",
    "from transformers import T5Tokenizer, T5ForConditionalGeneration\n",
    "import torch\n"
   ]
  },
  {
   "cell_type": "code",
   "execution_count": 2,
   "metadata": {},
   "outputs": [],
   "source": [
    "# Define paths\n",
    "train_obs_path = \"./TRAIN/OBS\"\n",
    "train_rct_path = \"./TRAIN/RCT\"\n",
    "test_obs_path = \"./TEST/OBS_test\"\n",
    "test_rct_path = \"./TEST/RCT_test\"\n"
   ]
  },
  {
   "cell_type": "code",
   "execution_count": 3,
   "metadata": {},
   "outputs": [],
   "source": [
    "# Function to load data\n",
    "def load_data(folder_path):\n",
    "    articles = []\n",
    "    abstracts = []\n",
    "    article_files = glob.glob(os.path.join(folder_path, \"articles_*.txt\"))\n",
    "    for article_file in article_files:\n",
    "        article_id = os.path.basename(article_file).split(\"-\")[1].split(\".\")[0]\n",
    "        abstract_file = os.path.join(folder_path, f\"abstract-{article_id}.txt\")\n",
    "\n",
    "        with open(article_file, \"r\", encoding=\"utf-8\") as f:\n",
    "            articles.append(f.read())\n",
    "\n",
    "        if os.path.exists(abstract_file):\n",
    "            with open(abstract_file, \"r\", encoding=\"utf-8\") as f:\n",
    "                abstracts.append(f.read())\n",
    "    return articles, abstracts\n"
   ]
  },
  {
   "cell_type": "code",
   "execution_count": 4,
   "metadata": {},
   "outputs": [],
   "source": [
    "# Load training data\n",
    "obs_articles, obs_abstracts = load_data(train_obs_path)\n",
    "rct_articles, rct_abstracts = load_data(train_rct_path)\n"
   ]
  },
  {
   "cell_type": "code",
   "execution_count": 5,
   "metadata": {},
   "outputs": [],
   "source": [
    "# Combine data\n",
    "train_articles = obs_articles + rct_articles\n",
    "train_abstracts = obs_abstracts + rct_abstracts\n"
   ]
  },
  {
   "cell_type": "code",
   "execution_count": null,
   "metadata": {},
   "outputs": [],
   "source": [
    "# Initialize tokenizer and model\n",
    "tokenizer = T5Tokenizer.from_pretrained(\"t5-small\")\n",
    "model = T5ForConditionalGeneration.from_pretrained(\"t5-small\")\n"
   ]
  },
  {
   "cell_type": "code",
   "execution_count": null,
   "metadata": {},
   "outputs": [],
   "source": [
    "# Tokenize data\n",
    "train_encodings = tokenizer(\n",
    "    train_articles, padding=True, truncation=True, max_length=512, return_tensors=\"pt\"\n",
    ")\n",
    "label_encodings = tokenizer(\n",
    "    train_abstracts, padding=True, truncation=True, max_length=128, return_tensors=\"pt\"\n",
    ")\n"
   ]
  },
  {
   "cell_type": "code",
   "execution_count": null,
   "metadata": {},
   "outputs": [],
   "source": [
    "# Prepare dataset\n",
    "dataset = torch.utils.data.TensorDataset(\n",
    "    train_encodings.input_ids, train_encodings.attention_mask, label_encodings.input_ids\n",
    ")\n",
    "dataloader = torch.utils.data.DataLoader(dataset, batch_size=8, shuffle=True)\n"
   ]
  },
  {
   "cell_type": "code",
   "execution_count": null,
   "metadata": {},
   "outputs": [],
   "source": [
    "# Define training loop\n",
    "def train_model(model, dataloader, epochs=3):\n",
    "    model.train()\n",
    "    optimizer = torch.optim.AdamW(model.parameters(), lr=5e-5)\n",
    "    for epoch in range(epochs):\n",
    "        for batch in dataloader:\n",
    "            input_ids, attention_mask, labels = batch\n",
    "            labels[labels == tokenizer.pad_token_id] = -100\n",
    "            outputs = model(\n",
    "                input_ids=input_ids, attention_mask=attention_mask, labels=labels\n",
    "            )\n",
    "            loss = outputs.loss\n",
    "            loss.backward()\n",
    "            optimizer.step()\n",
    "            optimizer.zero_grad()\n",
    "        print(f\"Epoch {epoch + 1}, Loss: {loss.item()}\")\n",
    "\n",
    "\n",
    "# Train the model\n",
    "train_model(model, dataloader)\n"
   ]
  },
  {
   "cell_type": "code",
   "execution_count": null,
   "metadata": {},
   "outputs": [],
   "source": [
    "# Generate abstracts for test data\n",
    "def generate_abstracts(model, tokenizer, test_folder, output_folder):\n",
    "    article_files = glob.glob(os.path.join(test_folder, \"article-*.txt\"))\n",
    "    os.makedirs(output_folder, exist_ok=True)\n",
    "    for article_file in article_files:\n",
    "        with open(article_file, \"r\", encoding=\"utf-8\") as f:\n",
    "            article = f.read()\n",
    "        inputs = tokenizer.encode(\n",
    "            \"summarize: \" + article,\n",
    "            return_tensors=\"pt\",\n",
    "            max_length=512,\n",
    "            truncation=True,\n",
    "        )\n",
    "        outputs = model.generate(\n",
    "            inputs, max_length=128, num_beams=4, early_stopping=True\n",
    "        )\n",
    "        summary = tokenizer.decode(outputs[0], skip_special_tokens=True)\n",
    "        article_id = os.path.basename(article_file).split(\"-\")[1].split(\".\")[0]\n",
    "        output_file = os.path.join(output_folder, f\"abstract-{article_id}.txt\")\n",
    "        with open(output_file, \"w\", encoding=\"utf-8\") as f:\n",
    "            f.write(summary)\n"
   ]
  },
  {
   "cell_type": "code",
   "execution_count": null,
   "metadata": {},
   "outputs": [],
   "source": [
    "# Generate abstracts for OBS and RCT tests\n",
    "generate_abstracts(model, tokenizer, test_obs_path, \"./OUTPUT/OBS\")\n",
    "generate_abstracts(model, tokenizer, test_rct_path, \"./OUTPUT/RCT\")\n"
   ]
  },
  {
   "cell_type": "code",
   "execution_count": null,
   "metadata": {},
   "outputs": [],
   "source": [
    "print(\"Abstract generation complete!\")\n"
   ]
  },
  {
   "cell_type": "code",
   "execution_count": null,
   "metadata": {},
   "outputs": [],
   "source": []
  },
  {
   "cell_type": "code",
   "execution_count": null,
   "metadata": {},
   "outputs": [],
   "source": []
  }
 ],
 "metadata": {
  "kernelspec": {
   "display_name": "env",
   "language": "python",
   "name": "python3"
  },
  "language_info": {
   "codemirror_mode": {
    "name": "ipython",
    "version": 3
   },
   "file_extension": ".py",
   "mimetype": "text/x-python",
   "name": "python",
   "nbconvert_exporter": "python",
   "pygments_lexer": "ipython3",
   "version": "3.10.11"
  }
 },
 "nbformat": 4,
 "nbformat_minor": 2
}
